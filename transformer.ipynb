{
  "nbformat": 4,
  "nbformat_minor": 0,
  "metadata": {
    "colab": {
      "provenance": [],
      "authorship_tag": "ABX9TyN1e5fxIAAG0vtHqgh4Kmh0",
      "include_colab_link": true
    },
    "kernelspec": {
      "name": "python3",
      "display_name": "Python 3"
    },
    "language_info": {
      "name": "python"
    }
  },
  "cells": [
    {
      "cell_type": "markdown",
      "metadata": {
        "id": "view-in-github",
        "colab_type": "text"
      },
      "source": [
        "<a href=\"https://colab.research.google.com/github/RainingCodes/Simple_Transformer/blob/main/transformer.ipynb\" target=\"_parent\"><img src=\"https://colab.research.google.com/assets/colab-badge.svg\" alt=\"Open In Colab\"/></a>"
      ]
    },
    {
      "cell_type": "code",
      "source": [
        "import tensorflow as tf\n",
        "import tensorflow_text as text  # 한국어 처리를 위해 필요\n",
        "import numpy as np"
      ],
      "metadata": {
        "id": "boga7BQr7xoU"
      },
      "execution_count": null,
      "outputs": []
    },
    {
      "cell_type": "code",
      "source": [
        "# 데이터 준비 (간단한 예제)\n",
        "inputs = [\"나는 학생입니다\"]\n",
        "outputs = [\"I am a student\"]"
      ],
      "metadata": {
        "id": "NmSQvTpo71JN"
      },
      "execution_count": null,
      "outputs": []
    },
    {
      "cell_type": "code",
      "source": [
        "tokenizer = text.BertTokenizer(\"https://tfhub.dev/tensorflow/bert_en_uncased_preprocess/3\")"
      ],
      "metadata": {
        "id": "x__2ERKG8EOT"
      },
      "execution_count": null,
      "outputs": []
    },
    {
      "cell_type": "code",
      "source": [
        "# Transformer 기본 블록 정의\n",
        "class SimpleSelfAttention(tf.keras.layers.Layer):\n",
        "    def __init__(self, dim):\n",
        "        super(SimpleSelfAttention, self).__init__()\n",
        "        self.W_q = tf.keras.layers.Dense(dim)\n",
        "        self.W_k = tf.keras.layers.Dense(dim)\n",
        "        self.W_v = tf.keras.layers.Dense(dim)\n",
        "\n",
        "    def call(self, x):\n",
        "        Q = self.W_q(x)\n",
        "        K = self.W_k(x)\n",
        "        V = self.W_v(x)\n",
        "        attention_scores = tf.matmul(Q, K, transpose_b=True) / tf.math.sqrt(tf.cast(K.shape[-1], tf.float32))\n",
        "        attention_weights = tf.nn.softmax(attention_scores, axis=-1)\n",
        "        return tf.matmul(attention_weights, V)"
      ],
      "metadata": {
        "id": "_R-_wWfI8HmX"
      },
      "execution_count": null,
      "outputs": []
    },
    {
      "cell_type": "code",
      "source": [
        "# 간단한 모델 정의\n",
        "class SimpleTransformer(tf.keras.Model):\n",
        "    def __init__(self, dim=16):\n",
        "        super(SimpleTransformer, self).__init__()\n",
        "        self.embedding = tf.keras.layers.Embedding(1000, dim)\n",
        "        self.self_attention = SimpleSelfAttention(dim)\n",
        "        self.dense = tf.keras.layers.Dense(10)\n",
        "\n",
        "    def call(self, x):\n",
        "        x = self.embedding(x)\n",
        "        x = self.self_attention(x)\n",
        "        return self.dense(x)"
      ],
      "metadata": {
        "id": "tqQrT41I8Iav"
      },
      "execution_count": null,
      "outputs": []
    },
    {
      "cell_type": "code",
      "source": [
        "# 모델 실행\n",
        "model = SimpleTransformer()\n",
        "sample_input = np.array([[1, 2, 3, 4]])  # 예제 토큰 입력\n",
        "output = model(sample_input)\n",
        "print(output.shape)  # 출력 형태 확인"
      ],
      "metadata": {
        "id": "MmwKe0hc8KCm"
      },
      "execution_count": null,
      "outputs": []
    },
    {
      "cell_type": "code",
      "source": [
        "class SimpleTransformer(tf.keras.Model):\n",
        "    def __init__(self, dim=16):\n",
        "        super(SimpleTransformer, self).__init__()\n",
        "        self.embedding = tf.keras.layers.Embedding(1000, dim)\n",
        "        self.self_attention = SimpleSelfAttention(dim)\n",
        "        self.dense = tf.keras.layers.Dense(10)\n",
        "\n",
        "    def call(self, x):\n",
        "        x = self.embedding(x)\n",
        "        x = self.self_attention(x)\n",
        "        return self.dense(x)"
      ],
      "metadata": {
        "id": "CM2cQamS941p"
      },
      "execution_count": null,
      "outputs": []
    },
    {
      "cell_type": "code",
      "source": [
        "model = SimpleTransformer()\n",
        "sample_input = np.array([[1, 2, 3, 4]])  # 예제 토큰 입력\n",
        "output = model(sample_input)\n",
        "print(output.shape)  # 출력 형태 확인"
      ],
      "metadata": {
        "id": "tEumo90C97-5"
      },
      "execution_count": null,
      "outputs": []
    }
  ]
}